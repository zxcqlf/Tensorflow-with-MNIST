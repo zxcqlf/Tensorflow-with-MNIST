{
 "cells": [
  {
   "cell_type": "code",
   "execution_count": 1,
   "metadata": {},
   "outputs": [
    {
     "name": "stdout",
     "output_type": "stream",
     "text": [
      "WARNING:tensorflow:From <ipython-input-1-ed3ec4e09799>:12: read_data_sets (from tensorflow.contrib.learn.python.learn.datasets.mnist) is deprecated and will be removed in a future version.\n",
      "Instructions for updating:\n",
      "Please use alternatives such as official/mnist/dataset.py from tensorflow/models.\n",
      "WARNING:tensorflow:From /home/zhaocq/anaconda3/envs/tf/lib/python3.5/site-packages/tensorflow/contrib/learn/python/learn/datasets/mnist.py:260: maybe_download (from tensorflow.contrib.learn.python.learn.datasets.base) is deprecated and will be removed in a future version.\n",
      "Instructions for updating:\n",
      "Please write your own downloading logic.\n",
      "WARNING:tensorflow:From /home/zhaocq/anaconda3/envs/tf/lib/python3.5/site-packages/tensorflow/contrib/learn/python/learn/datasets/mnist.py:262: extract_images (from tensorflow.contrib.learn.python.learn.datasets.mnist) is deprecated and will be removed in a future version.\n",
      "Instructions for updating:\n",
      "Please use tf.data to implement this functionality.\n",
      "Extracting /home/zhaocq/桌面/tensorflow/mnist/raw/train-images-idx3-ubyte.gz\n",
      "WARNING:tensorflow:From /home/zhaocq/anaconda3/envs/tf/lib/python3.5/site-packages/tensorflow/contrib/learn/python/learn/datasets/mnist.py:267: extract_labels (from tensorflow.contrib.learn.python.learn.datasets.mnist) is deprecated and will be removed in a future version.\n",
      "Instructions for updating:\n",
      "Please use tf.data to implement this functionality.\n",
      "Extracting /home/zhaocq/桌面/tensorflow/mnist/raw/train-labels-idx1-ubyte.gz\n",
      "WARNING:tensorflow:From /home/zhaocq/anaconda3/envs/tf/lib/python3.5/site-packages/tensorflow/contrib/learn/python/learn/datasets/mnist.py:110: dense_to_one_hot (from tensorflow.contrib.learn.python.learn.datasets.mnist) is deprecated and will be removed in a future version.\n",
      "Instructions for updating:\n",
      "Please use tf.one_hot on tensors.\n",
      "Extracting /home/zhaocq/桌面/tensorflow/mnist/raw/t10k-images-idx3-ubyte.gz\n",
      "Extracting /home/zhaocq/桌面/tensorflow/mnist/raw/t10k-labels-idx1-ubyte.gz\n",
      "WARNING:tensorflow:From /home/zhaocq/anaconda3/envs/tf/lib/python3.5/site-packages/tensorflow/contrib/learn/python/learn/datasets/mnist.py:290: DataSet.__init__ (from tensorflow.contrib.learn.python.learn.datasets.mnist) is deprecated and will be removed in a future version.\n",
      "Instructions for updating:\n",
      "Please use alternatives such as official/mnist/dataset.py from tensorflow/models.\n"
     ]
    }
   ],
   "source": [
    "from tensorflow.examples.tutorials.mnist import input_data\n",
    "import tensorflow as tf\n",
    "import os\n",
    "import numpy as np\n",
    "import matplotlib.pyplot as plt\n",
    "import matplotlib.gridspec as gridspec\n",
    "\n",
    "\n",
    "sess = tf.InteractiveSession()\n",
    "z_dim = 100\n",
    "batchs= 128\n",
    "mnist = input_data.read_data_sets(\"/home/zhaocq/桌面/tensorflow/mnist/raw/\",one_hot=True)"
   ]
  },
  {
   "cell_type": "code",
   "execution_count": 2,
   "metadata": {},
   "outputs": [],
   "source": [
    "def weight_variable(shape,name):\n",
    "    initial = tf.random_normal(shape, stddev=0.01)\n",
    "    return tf.Variable(initial,name = name)\n",
    "def bias_variable(shape,name):\n",
    "    initial = tf.zeros(shape)  #给偏置增加小的正值用来避免死亡节点；\n",
    "    return tf.Variable(initial,name = name)\n",
    "#生成器随机噪声100维\n",
    "z = tf.placeholder(tf.float32,shape=[None,100],name = 'z')\n",
    "#鉴别器准备MNIST图像输入设置\n",
    "x = tf.placeholder(tf.float32,shape=[None,784],name = 'x')\n",
    "#生成器参数定义\n",
    "g_w1 = weight_variable([100,128],'g_w1')\n",
    "g_b1 = bias_variable([128],'g_b1')\n",
    "g_w2 = weight_variable([128,784],'g_w2')\n",
    "g_b2 = bias_variable([784],'g_b2')\n",
    "generator_dict = [g_w1,g_b1,g_w2,g_b2]\n",
    "#鉴别器参数定义\n",
    "d_w1 = weight_variable([784,128],'d_w1')\n",
    "d_b1 = bias_variable([128],'d_b1')\n",
    "d_w2 = weight_variable([128,1],'d_w2')\n",
    "d_b2 = bias_variable([1],'d_b2')\n",
    "discriminator_dict = [d_w1,d_b1,d_w2,d_b2]\n"
   ]
  },
  {
   "cell_type": "code",
   "execution_count": 3,
   "metadata": {},
   "outputs": [],
   "source": [
    "#生成器网络定义\n",
    "def generator(z,generator_dict):\n",
    "    g_h1 = tf.nn.leaky_relu(tf.matmul(z,g_w1) + g_b1)\n",
    "    g_h2 = tf.nn.sigmoid(tf.matmul(g_h1,g_w2) + g_b2)\n",
    "    return g_h2\n",
    "#定义鉴别器\n",
    "def discrimnator(x,discriminator_dict):\n",
    "    d_h1 = tf.nn.leaky_relu(tf.matmul(x,d_w1)+d_b1)\n",
    "    d_logit = tf.matmul(d_h1,d_w2)+d_b2\n",
    "    d_prob = tf.nn.sigmoid(d_logit)\n",
    "    return d_prob,d_logit\n",
    "\n",
    "\n",
    "g_sample = generator(z,generator_dict)\n",
    "d_real,d_logit_real = discrimnator(x,discriminator_dict)\n",
    "d_fake,d_logit_fake = discrimnator(g_sample,discriminator_dict)\n",
    "#定义损失\n",
    "d_loss = - tf.reduce_mean(tf.log(d_real) + tf.log(1.- d_fake))\n",
    "g_loss =  tf.reduce_mean(tf.square(1.-d_fake)-tf.log(d_fake))\n",
    "#g_loss = - tf.reduce_mean(tf.log(d_fake))\n",
    "#定义优化器，仅优化相关参数\n",
    "d_slover = tf.train.AdamOptimizer().minimize(d_loss,var_list = discriminator_dict)\n",
    "g_slover = tf.train.AdamOptimizer().minimize(g_loss,var_list = generator_dict)\n"
   ]
  },
  {
   "cell_type": "code",
   "execution_count": 4,
   "metadata": {},
   "outputs": [
    {
     "name": "stdout",
     "output_type": "stream",
     "text": [
      "iter:0 d loss : 0.09828 g loss : 6.643\n",
      "iter:10 d loss : 0.5057 g loss : 4.646\n",
      "iter:20 d loss : 1.211 g loss : 2.607\n",
      "iter:30 d loss : 0.7297 g loss : 2.817\n",
      "iter:40 d loss : 0.9154 g loss : 2.557\n",
      "iter:50 d loss : 0.8242 g loss : 2.136\n",
      "iter:60 d loss : 1.071 g loss : 2.511\n",
      "iter:70 d loss : 0.9336 g loss : 1.964\n",
      "iter:80 d loss : 0.9217 g loss : 2.171\n",
      "iter:90 d loss : 1.024 g loss : 1.948\n"
     ]
    }
   ],
   "source": [
    "#训练过程\n",
    "def sample_z(m,n):\n",
    "    '''Uniform prior for G(z)'''\n",
    "    return np.random.uniform(-1.,1.,size=[m,n])\n",
    "def plot(samples):\n",
    "    fig = plt.figure(figsize=(4, 4))\n",
    "    gs = gridspec.GridSpec(4, 4)\n",
    "    gs.update(wspace=0.05, hspace=0.05)\n",
    "\n",
    "    for i, sample in enumerate(samples):\n",
    "        ax = plt.subplot(gs[i])\n",
    "        plt.axis('off')\n",
    "        ax.set_xticklabels([])\n",
    "        ax.set_yticklabels([])\n",
    "        ax.set_aspect('equal')\n",
    "        plt.imshow(sample.reshape(28, 28), cmap='Greys_r')\n",
    "\n",
    "    return fig\n",
    "\n",
    "\n",
    "sess.run(tf.global_variables_initializer())\n",
    "i=0\n",
    "\n",
    "for epoch in range(100):\n",
    "    #输出image\n",
    "    for it in range (500):\n",
    "        x_md,_ =mnist.train.next_batch(batchs)\n",
    "        _,d_loss_curr = sess.run([d_slover,d_loss],feed_dict={x: x_md, z: sample_z(batchs,z_dim)})\n",
    "        _,g_loss_curr = sess.run([g_slover,g_loss],feed_dict={z: sample_z(batchs,z_dim)})\n",
    "    if epoch % 10 == 0:\n",
    "        samples = sess.run(g_sample,feed_dict={z: sample_z(16,100)})\n",
    "        fig = plot(samples)\n",
    "        plt.savefig('out/{}.png'.format(str(i).zfill(3)),bbox_inches = 'tight')\n",
    "        i += 1\n",
    "        plt.close(fig) \n",
    "        print('iter:{}'.format(epoch),'d loss : {:.4}'.format(d_loss_curr),'g loss : {:.4}'.format(g_loss_curr))\n",
    "\n"
   ]
  },
  {
   "cell_type": "code",
   "execution_count": 5,
   "metadata": {},
   "outputs": [
    {
     "data": {
      "text/plain": [
       "<matplotlib.image.AxesImage at 0x7f5a97abe7b8>"
      ]
     },
     "execution_count": 5,
     "metadata": {},
     "output_type": "execute_result"
    },
    {
     "data": {
      "image/png": "[encoded data removed]",
      "text/plain": [
       "<Figure size 432x288 with 1 Axes>"
      ]
     },
     "metadata": {
      "needs_background": "light"
     },
     "output_type": "display_data"
    }
   ],
   "source": [
    "sampl = sess.run(g_sample,feed_dict={z: sample_z(5,100)})\n",
    "I=np.reshape(sampl[1],(28,28))\n",
    "#plt.imshow(np.reshape(sampl[1],(28,28)))\n",
    "plt.imshow(I)\n"
   ]
  },
  {
   "cell_type": "code",
   "execution_count": null,
   "metadata": {},
   "outputs": [],
   "source": []
  },
  {
   "cell_type": "code",
   "execution_count": null,
   "metadata": {},
   "outputs": [],
   "source": []
  }
 ],
 "metadata": {
  "kernelspec": {
   "display_name": "Python [conda env:tf]",
   "language": "python",
   "name": "conda-env-tf-py"
  },
  "language_info": {
   "codemirror_mode": {
    "name": "ipython",
    "version": 3
   },
   "file_extension": ".py",
   "mimetype": "text/x-python",
   "name": "python",
   "nbconvert_exporter": "python",
   "pygments_lexer": "ipython3",
   "version": "3.5.5"
  }
 },
 "nbformat": 4,
 "nbformat_minor": 2
}
