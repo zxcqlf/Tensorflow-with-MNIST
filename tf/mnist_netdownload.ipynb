{
 "cells": [
  {
   "cell_type": "code",
   "execution_count": 4,
   "metadata": {},
   "outputs": [
    {
     "name": "stdout",
     "output_type": "stream",
     "text": [
      "Extracting /home/zhaocq/桌面/tensorflow/mnist/raw/train-images-idx3-ubyte.gz\n",
      "Extracting /home/zhaocq/桌面/tensorflow/mnist/raw/train-labels-idx1-ubyte.gz\n",
      "Extracting /home/zhaocq/桌面/tensorflow/mnist/raw/t10k-images-idx3-ubyte.gz\n",
      "Extracting /home/zhaocq/桌面/tensorflow/mnist/raw/t10k-labels-idx1-ubyte.gz\n"
     ]
    },
    {
     "name": "stderr",
     "output_type": "stream",
     "text": [
      "/home/zhaocq/anaconda3/envs/tf/lib/python3.5/site-packages/tensorflow/python/client/session.py:1714: UserWarning: An interactive session is already active. This can cause out-of-memory errors in some cases. You must explicitly call `InteractiveSession.close()` to release resources held by the other session(s).\n",
      "  warnings.warn('An interactive session is already active. This can '\n"
     ]
    }
   ],
   "source": [
    "from tensorflow.examples.tutorials.mnist import input_data\n",
    "import tensorflow as tf\n",
    "import numpy as np\n",
    "import os\n",
    "mnist = input_data.read_data_sets(\"/home/zhaocq/桌面/tensorflow/mnist/raw/\",one_hot=True)\n",
    "sess = tf.InteractiveSession()\n",
    "X = tf.placeholder(tf.float32,[None,784])\n",
    "Y = tf.placeholder(tf.float32,[None,10])\n",
    "#定义权重初始化函数以及权重向量\n",
    "#定义权重初始化函数以及权重向量\n",
    "#def init_weights(shapes):\n",
    "#    return tf.Variable(tf.random_normal(shapes, stddev=0.01))\n",
    "#w_h = init_weights([784,625])\n",
    "#w_h2 = init_weights([625,625])\n",
    "#w_o = init_weights([625,10])\n",
    "w_h = tf.Variable(tf.random_normal([784,625], stddev=0.01),name = 'w_1')\n",
    "w_h2 = tf.Variable(tf.random_normal([625,625], stddev=0.01),name = 'w_2')\n",
    "w_o = tf.Variable(tf.random_normal([625,10], stddev=0.01),name = 'w_0')\n",
    "variables_dict = {'w_1':w_h, 'w_2':w_h2,  'w_o':w_o}\n",
    "\n",
    "\n",
    "def model(X, w_h , w_h2 , w_o, p_keep_input,p_keep_hidden):\n",
    "    X = tf.nn.dropout(X, p_keep_input)\n",
    "    h = tf.nn.relu(tf.matmul(X, w_h))\n",
    "    h = tf.nn.dropout(h, p_keep_hidden)\n",
    "    h2 = tf.nn.relu(tf.matmul(h,w_h2))\n",
    "    h2 = tf.nn.dropout(h2, p_keep_hidden)\n",
    "    return tf.nn.softmax(tf.matmul(h2 ,w_o))\n",
    "p_keep_input = tf.placeholder(tf.float32)\n",
    "p_keep_hidden = tf.placeholder(tf.float32)\n",
    "py_x = model(X, w_h,w_h2,w_o,p_keep_input,p_keep_hidden)\n",
    "#损失函数定义\n",
    "cost = tf.reduce_mean(-tf.reduce_mean(Y*tf.log(py_x),reduction_indices=[1]))\n",
    "train_op = tf.train.AdamOptimizer(1e-4).minimize(cost)\n",
    "predict_op = tf.equal(tf.argmax(py_x,1),tf.argmax(Y,1))\n",
    "accuracy = tf.reduce_mean(tf.cast(predict_op,tf.float32))\n",
    "\n",
    "ckpt_dir = \"./trainsave/ckpt_dir/model.ckpt-997\"\n",
    "global_step = tf.Variable(0,name='global_step',trainable = False)\n",
    "saver = tf.train.Saver(variables_dict)\n",
    "non_storable_variable = tf.Variable(777)"
   ]
  },
  {
   "cell_type": "code",
   "execution_count": 5,
   "metadata": {},
   "outputs": [
    {
     "name": "stdout",
     "output_type": "stream",
     "text": [
      "INFO:tensorflow:Restoring parameters from ./trainsave/ckpt_dir/model.ckpt-997\n",
      "test accuracy 0.9639\n"
     ]
    }
   ],
   "source": [
    "with tf.Session() as sess:\n",
    "    tf.global_variables_initializer().run()\n",
    "    #ckpt = tf.train.get_checkpoint_state(ckpt_dir)\n",
    "    saver.restore(sess,ckpt_dir)\n",
    "    trainaccuracy = sess.run(accuracy,feed_dict={X:mnist.test.images,Y:mnist.test.labels,p_keep_hidden:1.0,p_keep_input:1.0})\n",
    "    print(\"test accuracy %g\"%trainaccuracy)#feed_dict给placeholder创建的tensor赋值"
   ]
  },
  {
   "cell_type": "code",
   "execution_count": null,
   "metadata": {},
   "outputs": [],
   "source": []
  }
 ],
 "metadata": {
  "kernelspec": {
   "display_name": "Python [conda env:tf]",
   "language": "python",
   "name": "conda-env-tf-py"
  },
  "language_info": {
   "codemirror_mode": {
    "name": "ipython",
    "version": 3
   },
   "file_extension": ".py",
   "mimetype": "text/x-python",
   "name": "python",
   "nbconvert_exporter": "python",
   "pygments_lexer": "ipython3",
   "version": "3.5.5"
  }
 },
 "nbformat": 4,
 "nbformat_minor": 2
}
