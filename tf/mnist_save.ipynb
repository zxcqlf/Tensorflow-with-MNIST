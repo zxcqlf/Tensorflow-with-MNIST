{
 "cells": [
  {
   "cell_type": "code",
   "execution_count": 6,
   "metadata": {},
   "outputs": [
    {
     "name": "stdout",
     "output_type": "stream",
     "text": [
      "Extracting /home/zhaocq/桌面/tensorflow/mnist/raw/train-images-idx3-ubyte.gz\n",
      "Extracting /home/zhaocq/桌面/tensorflow/mnist/raw/train-labels-idx1-ubyte.gz\n",
      "Extracting /home/zhaocq/桌面/tensorflow/mnist/raw/t10k-images-idx3-ubyte.gz\n",
      "Extracting /home/zhaocq/桌面/tensorflow/mnist/raw/t10k-labels-idx1-ubyte.gz\n"
     ]
    }
   ],
   "source": [
    "from tensorflow.examples.tutorials.mnist import input_data\n",
    "import tensorflow as tf\n",
    "import os\n",
    "mnist = input_data.read_data_sets(\"/home/zhaocq/桌面/tensorflow/mnist/raw/\",one_hot=True)\n",
    "sess = tf.InteractiveSession()\n",
    "trX, trY, teX, teY = mnist.train.images, mnist.train.labels,mnist.test.images,mnist.test.labels\n",
    "X = tf.placeholder(tf.float32,[None,784])\n",
    "Y = tf.placeholder(tf.float32,[None,10])\n",
    "#定义权重初始化函数以及权重向量\n",
    "#def init_weights(shapes):\n",
    "#    return tf.Variable(tf.random_normal(shapes, stddev=0.01))\n",
    "#w_h = init_weights([784,625])\n",
    "#w_h2 = init_weights([625,625])\n",
    "#w_o = init_weights([625,10])\n",
    "w_h = tf.Variable(tf.random_normal([784,625], stddev=0.01),name = 'w_1')\n",
    "w_h2 = tf.Variable(tf.random_normal([625,625], stddev=0.01),name = 'w_2')\n",
    "w_o = tf.Variable(tf.random_normal([625,10], stddev=0.01),name = 'w_0')\n",
    "variables_dict = {'w_1':w_h, 'w_2':w_h2,  'w_o':w_o}"
   ]
  },
  {
   "cell_type": "code",
   "execution_count": 7,
   "metadata": {},
   "outputs": [],
   "source": [
    "#定义模型\n",
    "def model(X, w_h , w_h2 , w_o, p_keep_input,p_keep_hidden):\n",
    "    X = tf.nn.dropout(X, p_keep_input)\n",
    "    h = tf.nn.relu(tf.matmul(X, w_h))\n",
    "    h = tf.nn.dropout(h, p_keep_hidden)\n",
    "    h2 = tf.nn.relu(tf.matmul(h,w_h2))\n",
    "    h2 = tf.nn.dropout(h2, p_keep_hidden)\n",
    "    return tf.nn.softmax(tf.matmul(h2 ,w_o))\n",
    "p_keep_input = tf.placeholder(tf.float32)\n",
    "p_keep_hidden = tf.placeholder(tf.float32)\n",
    "py_x = model(X, w_h,w_h2,w_o,p_keep_input,p_keep_hidden)\n",
    "#损失函数定义\n",
    "cost = tf.reduce_mean(-tf.reduce_mean(Y*tf.log(py_x),reduction_indices=[1]))\n",
    "train_op = tf.train.RMSPropOptimizer(0.001,0.9).minimize(cost)\n",
    "predict_op = tf.equal(tf.argmax(py_x,1),tf.argmax(Y,1))\n",
    "accuracy = tf.reduce_mean(tf.cast(predict_op,tf.float32))"
   ]
  },
  {
   "cell_type": "code",
   "execution_count": 8,
   "metadata": {},
   "outputs": [],
   "source": [
    " ckpt_dir = \"./trainsave/ckpt_dir\"\n",
    "if not os.path.exists(ckpt_dir):\n",
    "    os.makedirs(ckpt_dir)\n",
    "global_step = tf.Variable(0,name='global_step',trainable = False)\n",
    "saver = tf.train.Saver(variables_dict)\n",
    "non_storable_variable = tf.Variable(777)\n"
   ]
  },
  {
   "cell_type": "code",
   "execution_count": 9,
   "metadata": {},
   "outputs": [
    {
     "name": "stdout",
     "output_type": "stream",
     "text": [
      "step 0,training accuracy 0.08\n",
      "step 100,training accuracy 0.11\n",
      "step 200,training accuracy 0.76\n",
      "step 300,training accuracy 0.78\n",
      "step 400,training accuracy 0.96\n",
      "step 500,training accuracy 0.93\n",
      "step 600,training accuracy 0.94\n",
      "step 700,training accuracy 0.95\n",
      "step 800,training accuracy 0.94\n",
      "step 900,training accuracy 0.9\n",
      "test accuracy 0.9589\n"
     ]
    }
   ],
   "source": [
    "with tf.Session() as sess:\n",
    "    tf.global_variables_initializer().run()\n",
    "    start = global_step.eval()\n",
    "    for i in range(start, 1000):\n",
    "        batch = mnist.train.next_batch(100)\n",
    "        if i%100 == 0:\n",
    "            train_accuracy = accuracy.eval(feed_dict={X: batch[0],Y:batch[1],p_keep_hidden:0.8,p_keep_input:0.5}) #keep_prob训练时通常小于1，测试时为1\n",
    "            print(\"step %d,training accuracy %g\"%(i,train_accuracy))\n",
    "        sess.run(train_op,feed_dict={X: batch[0],Y:batch[1],p_keep_hidden:0.8,p_keep_input:0.5})\n",
    "        #for start, end in zip(range(0,len(trX),128),range(128,len(trX)+1),128):\n",
    "            #sess.run(train_op,feed_dict={X:trX[start:end],Y:trY[start:end],p_keep_hidden:0.8,p_keep_input:0.5})\n",
    "        global_step.assign(i).eval()\n",
    "        saver.save(sess, ckpt_dir + \"/model.ckpt\",global_step=global_step)\n",
    "    trainaccuracy = sess.run(accuracy,feed_dict={X:mnist.test.images,Y:mnist.test.labels,p_keep_hidden:1.0,p_keep_input:1.0})\n",
    "    print(\"test accuracy %g\"%trainaccuracy)#feed_dict给placeholder创建的tensor赋值"
   ]
  },
  {
   "cell_type": "code",
   "execution_count": null,
   "metadata": {},
   "outputs": [],
   "source": []
  }
 ],
 "metadata": {
  "kernelspec": {
   "display_name": "Python [conda env:tf]",
   "language": "python",
   "name": "conda-env-tf-py"
  },
  "language_info": {
   "codemirror_mode": {
    "name": "ipython",
    "version": 3
   },
   "file_extension": ".py",
   "mimetype": "text/x-python",
   "name": "python",
   "nbconvert_exporter": "python",
   "pygments_lexer": "ipython3",
   "version": "3.5.5"
  }
 },
 "nbformat": 4,
 "nbformat_minor": 2
}
